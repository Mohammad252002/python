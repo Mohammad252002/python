{
 "cells": [
  {
   "cell_type": "code",
   "execution_count": 2,
   "metadata": {},
   "outputs": [],
   "source": [
    "#In The Name Of 0111"
   ]
  },
  {
   "cell_type": "code",
   "execution_count": 3,
   "metadata": {
    "tags": []
   },
   "outputs": [],
   "source": [
    "#Importing Dependencies"
   ]
  },
  {
   "cell_type": "code",
   "execution_count": 4,
   "metadata": {},
   "outputs": [],
   "source": [
    "from random import randint as rnd\n",
    "from random import shuffle\n",
    "import matplotlib.pyplot as plt"
   ]
  },
  {
   "cell_type": "code",
   "execution_count": 5,
   "metadata": {},
   "outputs": [],
   "source": [
    "#Se#tting the problem and algorithm paramiters"
   ]
  },
  {
   "cell_type": "code",
   "execution_count": 26,
   "metadata": {},
   "outputs": [],
   "source": [
    "N = 10\n",
    "PS = 100  # Population Size\n",
    "MR = 0.8 # Mutation Rate\n",
    "EPOCH = 200"
   ]
  },
  {
   "cell_type": "code",
   "execution_count": 7,
   "metadata": {},
   "outputs": [],
   "source": [
    "#Initial population function"
   ]
  },
  {
   "cell_type": "code",
   "execution_count": 8,
   "metadata": {},
   "outputs": [],
   "source": [
    "def init_population(n,ps):\n",
    "    population_list = []\n",
    "    for i in range(ps):\n",
    "        member = []\n",
    "        for j in range(n):\n",
    "            member.append(rnd(0,n-1))\n",
    "        population_list.append(member+[None])\n",
    "    return population_list"
   ]
  },
  {
   "cell_type": "code",
   "execution_count": 9,
   "metadata": {},
   "outputs": [],
   "source": [
    "#Cross-Over function"
   ]
  },
  {
   "cell_type": "code",
   "execution_count": 10,
   "metadata": {},
   "outputs": [],
   "source": [
    "def cross_over(population_list, n, ps):\n",
    "    for i in range(0, ps, 2):\n",
    "        child1 = population_list[i][:n//2]+population_list[i+1][n//2:n]+[None]\n",
    "        child2 = population_list[i+1][:n//2]+population_list[i][n//2:n]+[None]\n",
    "        population_list.append(child1)\n",
    "        population_list.append(child2)\n",
    "    return population_list"
   ]
  },
  {
   "cell_type": "code",
   "execution_count": 11,
   "metadata": {},
   "outputs": [],
   "source": [
    "#Mutaion function"
   ]
  },
  {
   "cell_type": "code",
   "execution_count": 12,
   "metadata": {},
   "outputs": [],
   "source": [
    "def mutation(population_list, n, ps, mr):\n",
    "    chooosen_ones = list(range(ps,ps*2))\n",
    "    shuffle (chooosen_ones)\n",
    "    chooosen_ones = chooosen_ones[:int(ps*mr)]\n",
    "\n",
    "    for i in chooosen_ones:\n",
    "        cell = rnd(0, n-1)\n",
    "        val = rnd(0, n-1)\n",
    "        population_list[i][cell] = val\n",
    "    return population_list\n"
   ]
  },
  {
   "cell_type": "code",
   "execution_count": 13,
   "metadata": {},
   "outputs": [],
   "source": [
    "#Fitness function"
   ]
  },
  {
   "cell_type": "code",
   "execution_count": 19,
   "metadata": {},
   "outputs": [],
   "source": [
    "def fittness(population_list, n):\n",
    "    lenth =len(population_list)\n",
    "    for i in range(lenth):\n",
    "        confilict = 0\n",
    "       \n",
    "        for j in range(n):\n",
    "            for k in range(j+1,n):\n",
    "                \n",
    "                # column\n",
    "                if population_list[i][j]==population_list[i][k]:\n",
    "                    confilict+=1\n",
    "                \n",
    "                #diagnol\n",
    "                if abs(j-k)==abs(population_list[i][j]-population_list[i][k]):\n",
    "                    confilict+=1   \n",
    "\n",
    "                    \n",
    "        population_list[i][-1]=confilict\n",
    "    return population_list"
   ]
  },
  {
   "cell_type": "code",
   "execution_count": 20,
   "metadata": {},
   "outputs": [],
   "source": [
    "#Prsentation function"
   ]
  },
  {
   "cell_type": "code",
   "execution_count": 21,
   "metadata": {},
   "outputs": [],
   "source": [
    "def show(solution, n):\n",
    "    plt.figure(figsize=(5,5))\n",
    "    for i in range(n+1):\n",
    "        plt.plot([0, n*2], [i*2, i*2], color='black')\n",
    "        plt.plot([i*2, i*2], [0, n*2], color='black')\n",
    "\n",
    "    for i in range(n):\n",
    "        plt.scatter([i*2+1], [solution[i]*2+1], color='red')\n",
    "\n",
    "    plt.show()"
   ]
  },
  {
   "cell_type": "code",
   "execution_count": 22,
   "metadata": {},
   "outputs": [],
   "source": [
    "#Main"
   ]
  },
  {
   "cell_type": "code",
   "execution_count": 25,
   "metadata": {},
   "outputs": [
    {
     "name": "stdout",
     "output_type": "stream",
     "text": [
      "1 Best solution so far: [7, 4, 0, 3, 6, 4, 7, 1, 2]\n",
      "2 Best solution so far: [3, 1, 7, 2, 0, 6, 4, 1, 1]\n",
      "3 Best solution so far: [3, 1, 7, 2, 0, 6, 4, 1, 1]\n",
      "4 Best solution so far: [3, 1, 7, 2, 0, 6, 4, 1, 1]\n",
      "5 Best solution so far: [3, 1, 7, 2, 0, 6, 4, 1, 1]\n",
      "6 Best solution so far: [3, 1, 7, 2, 0, 6, 4, 1, 1]\n",
      "7 Best solution so far: [3, 1, 7, 2, 0, 6, 4, 1, 1]\n",
      "8 Best solution so far: [3, 1, 7, 2, 0, 6, 4, 1, 1]\n",
      "9 Best solution so far: [3, 1, 7, 2, 0, 6, 4, 1, 1]\n",
      "10 Best solution so far: [3, 1, 7, 2, 0, 6, 4, 1, 1]\n",
      "11 Best solution so far: [3, 1, 7, 2, 0, 6, 4, 1, 1]\n",
      "12 Best solution so far: [3, 1, 7, 2, 0, 6, 4, 1, 1]\n",
      "13 Best solution so far: [3, 1, 7, 2, 0, 6, 4, 1, 1]\n",
      "14 Solution Found: [3, 5, 7, 2, 0, 6, 4, 1, 0]\n"
     ]
    },
    {
     "data": {
      "image/png": "[encoded data removed]",
      "text/plain": [
       "<Figure size 500x500 with 1 Axes>"
      ]
     },
     "metadata": {},
     "output_type": "display_data"
    }
   ],
   "source": [
    "current_population = init_population(N,PS)\n",
    "current_population = fittness(current_population,N )\n",
    "current_population = sorted(current_population, key=lambda x:x[-1])\n",
    "if current_population[0][-1]==0:\n",
    "        print(\"Solution was found in the initial population stage:\" ,current_population[0] )\n",
    "        show(current_population[0],N)\n",
    "else:\n",
    "    for i in range(EPOCH):\n",
    "        current_population = cross_over(current_population, N, PS)\n",
    "        current_population = mutation(current_population, N, PS, MR)\n",
    "        current_population = fittness(current_population,N )\n",
    "        current_population = sorted(current_population, key=lambda x:x[-1])\n",
    "        current_population = current_population[:PS]\n",
    "        if current_population[0][-1]==0:\n",
    "            print(i+1,\"Solution Found:\" ,current_population[0] )\n",
    "            show(current_population[0],N)\n",
    "            break\n",
    "        else:\n",
    "            print(i+1,\"Best solution so far:\" ,current_population[0] )\n",
    "\n",
    "\n",
    "    else:\n",
    "        print(\"Sorry, we could not find you a solution\")\n",
    "        show(current_population[0],N)        "
   ]
  },
  {
   "cell_type": "code",
   "execution_count": null,
   "metadata": {},
   "outputs": [],
   "source": []
  }
 ],
 "metadata": {
  "kernelspec": {
   "display_name": "Python 3",
   "language": "python",
   "name": "python3"
  },
  "language_info": {
   "codemirror_mode": {
    "name": "ipython",
    "version": 3
   },
   "file_extension": ".py",
   "mimetype": "text/x-python",
   "name": "python",
   "nbconvert_exporter": "python",
   "pygments_lexer": "ipython3",
   "version": "3.12.1"
  }
 },
 "nbformat": 4,
 "nbformat_minor": 2
}
