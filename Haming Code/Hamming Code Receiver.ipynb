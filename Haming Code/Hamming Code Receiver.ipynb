{
 "cells": [
  {
   "cell_type": "code",
   "execution_count": 1,
   "id": "d97ff836-51f7-4a45-b82f-6ab75d216179",
   "metadata": {},
   "outputs": [],
   "source": [
    "#in the name of 0111"
   ]
  },
  {
   "cell_type": "code",
   "execution_count": 2,
   "id": "0de74a54-3d69-4fb8-aaf9-7c16fd721e8d",
   "metadata": {},
   "outputs": [],
   "source": [
    "import numpy as np"
   ]
  },
  {
   "cell_type": "code",
   "execution_count": 3,
   "id": "bf162271-0b8d-4584-b9a7-06f87028aefb",
   "metadata": {},
   "outputs": [
    {
     "name": "stdout",
     "output_type": "stream",
     "text": [
      "Hello, World!\n"
     ]
    }
   ],
   "source": [
    "with open(\"binary_massage.txt\", \"r\") as fi :\n",
    "    data = fi.read()\n",
    "#print(data)\n",
    "\n",
    "binary_rep = []\n",
    "for i in range(0,len(data),16):\n",
    "    binary_rep.append(data[i:i+16])\n",
    "#print(binary_rep)    \n",
    "\n",
    "def block_creator(str_rep):\n",
    "    _list = list(map(lambda i:int(i), str_rep))\n",
    "    block = np.array(_list)\n",
    "    block = block.reshape((4,4))\n",
    "    error = [False, False, False, False]\n",
    "    if (np.count_nonzero(block[1:,1]) + np.count_nonzero(block[:,3])) % 2 != block[0][1]:\n",
    "        error[0] = True\n",
    "    if (np.count_nonzero(block[1:,2]) + np.count_nonzero(block[:,3])) % 2 != block[0][2]:\n",
    "        error[1] = True\n",
    "    if (np.count_nonzero(block[1][1:]) + np.count_nonzero(block[3])) % 2 != block[1][0]:\n",
    "        error[2] = True\n",
    "    if (np.count_nonzero(block[2][1:]) + np.count_nonzero(block[3])) % 2 != block[2][0]:\n",
    "        error[3] = True\n",
    "    \n",
    "    if any(error):\n",
    "        col_error = None\n",
    "        row_error = None\n",
    "        \n",
    "        if error[0] and error[1]:\n",
    "            col_error = 3\n",
    "        elif error[0] and not error[1]:\n",
    "            col_error = 1\n",
    "        elif not error[0] and error[1]:\n",
    "            col_error = 2\n",
    "        elif not error[0] and not error[1]:\n",
    "            col_error = 0\n",
    "            \n",
    "        if error[2] and error[3]:\n",
    "            row_error = 3\n",
    "        elif error[2] and not error[3]:\n",
    "            row_error = 1\n",
    "        elif not error[2] and error[3]:\n",
    "            row_error = 2\n",
    "        elif not error[2] and not error[3]:\n",
    "            row_error = 0\n",
    "            \n",
    "        block[row_error][col_error] += 1\n",
    "        block[row_error][col_error] %= 2\n",
    "        \n",
    "    places = [[0,3],[1,1],[1,2],[1,3],[2,1],[2,2],[2,3],[3,0],[3,1],[3,2],[3,3]]\n",
    "    _str = \"\"\n",
    "    for row,col in places :\n",
    "        _str += str(block[col][row])\n",
    "        \n",
    "    _str = int(_str)\n",
    "    _str = \"0b\" + str(_str)\n",
    "    return _str\n",
    "\n",
    "for i in range(len(binary_rep)):\n",
    "    binary_rep[i] = int(block_creator(binary_rep[i]), 2)\n",
    "\n",
    "#print(binary_rep)\n",
    "\n",
    "alphabet = list(map(lambda i:i,\"abcdefghijklmnopqrstuvwxyzABCDEFGHIJKLMNOPQRSTUVWXYZ0123456789 !@#$%^&*()_+=<>.,'\" ))\n",
    "\n",
    "\n",
    "original_data = \"\"\n",
    "for i in binary_rep:\n",
    "    original_data += alphabet[i]\n",
    "\n",
    "print(original_data)\n",
    "\n",
    "\n",
    "\n",
    "#done\n",
    "\n"
   ]
  },
  {
   "cell_type": "code",
   "execution_count": null,
   "id": "1710eaf5-ddfe-435f-825c-1bae0ac03853",
   "metadata": {},
   "outputs": [],
   "source": []
  }
 ],
 "metadata": {
  "kernelspec": {
   "display_name": "Python 3 (ipykernel)",
   "language": "python",
   "name": "python3"
  },
  "language_info": {
   "codemirror_mode": {
    "name": "ipython",
    "version": 3
   },
   "file_extension": ".py",
   "mimetype": "text/x-python",
   "name": "python",
   "nbconvert_exporter": "python",
   "pygments_lexer": "ipython3",
   "version": "3.11.5"
  }
 },
 "nbformat": 4,
 "nbformat_minor": 5
}
