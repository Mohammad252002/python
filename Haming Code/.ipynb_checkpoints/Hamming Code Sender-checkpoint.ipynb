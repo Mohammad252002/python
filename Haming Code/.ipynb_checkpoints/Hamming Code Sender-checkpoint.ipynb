{
 "cells": [
  {
   "cell_type": "code",
   "execution_count": 1,
   "id": "f32fe06b-a2bc-4609-bbbe-db18fdaedf3f",
   "metadata": {},
   "outputs": [],
   "source": [
    "#in the name of 0111"
   ]
  },
  {
   "cell_type": "code",
   "execution_count": 2,
   "id": "0c5983fb-5f6a-4db1-9c78-8b7bc76e78af",
   "metadata": {},
   "outputs": [],
   "source": [
    "import numpy as np \n"
   ]
  },
  {
   "cell_type": "code",
   "execution_count": 3,
   "id": "5065e196-9381-4058-b71a-dd0a3751d4c2",
   "metadata": {},
   "outputs": [],
   "source": [
    "\n",
    "alphabet = list(map(lambda i:i,\"abcdefghijklmnopqrstuvwxyzABCDEFGHIJKLMNOPQRSTUVWXYZ0123456789 !@#$%^&*()_+=<>.,'\" ))\n",
    "\n",
    "lenth = len(alphabet)\n",
    "\n",
    "#_str = your massage\n",
    "_str = \"Hello, World!\"\n",
    "\n",
    "binary_rep = []\n",
    "for i in _str:\n",
    "    binary_rep.append(bin(alphabet.index(i)))\n",
    "\n",
    "def block_creator(binary_code):\n",
    "    # padding\n",
    "    \n",
    "    binary_code = binary_code[2:]\n",
    "    length = len(binary_code)\n",
    "    for i in range(length,11):\n",
    "        binary_code = \"0\" + binary_code\n",
    "    \n",
    "    # end of padding\n",
    "    #print(binary_code)\n",
    "    places = [[0,3],[1,1],[1,2],[1,3],[2,1],[2,2],[2,3],[3,0],[3,1],[3,2],[3,3]]\n",
    "    block = np.zeros((4,4),np.int8)\n",
    "    for index, value in enumerate(binary_code):\n",
    "        row, col = places[index]\n",
    "        block[row][col] = value\n",
    "    # Q1:\n",
    "    if (np.count_nonzero(block[:,1]) + np.count_nonzero(block[:,3])) %2 : \n",
    "        block[0][1] = 1\n",
    "    if (np.count_nonzero(block[:,2]) + np.count_nonzero(block[:,3])) %2 : \n",
    "        block[0][2] = 1\n",
    "    if ((np.count_nonzero(block[1]) + np.count_nonzero(block[3])) % 2)  :\n",
    "        block[1][0] = 1\n",
    "    if ((np.count_nonzero(block[2]) + np.count_nonzero(block[3])) % 2)  :\n",
    "        block[2][0] = 1 \n",
    "    if np.count_nonzero(block)%2:\n",
    "        block[0][0] = 1\n",
    "        \n",
    "    return block\n",
    "\n",
    "\n",
    "binary_str = \"\"\n",
    "for i in range(len(binary_rep)):\n",
    "    _list = block_creator(binary_rep[i]).flatten(order=\"F\")\n",
    "    _list = _list.tolist()\n",
    "    binary_str += \"\".join([str(i) for i in _list])\n",
    "\n",
    "#print(binary_str)\n",
    "\n",
    "with open(\"binary_massage.txt\", \"w\") as fi :\n",
    "    fi.write(binary_str)"
   ]
  },
  {
   "cell_type": "code",
   "execution_count": null,
   "id": "9115bdac-59c0-4cfc-a4bf-1d7f3f04bbb4",
   "metadata": {},
   "outputs": [],
   "source": []
  }
 ],
 "metadata": {
  "kernelspec": {
   "display_name": "Python 3 (ipykernel)",
   "language": "python",
   "name": "python3"
  },
  "language_info": {
   "codemirror_mode": {
    "name": "ipython",
    "version": 3
   },
   "file_extension": ".py",
   "mimetype": "text/x-python",
   "name": "python",
   "nbconvert_exporter": "python",
   "pygments_lexer": "ipython3",
   "version": "3.11.5"
  }
 },
 "nbformat": 4,
 "nbformat_minor": 5
}
